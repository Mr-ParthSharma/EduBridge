{
 "cells": [
  {
   "cell_type": "code",
   "execution_count": 3,
   "metadata": {},
   "outputs": [
    {
     "name": "stdout",
     "output_type": "stream",
     "text": [
      "Is thread1 alive False\n",
      "Is thread2 alive False\n",
      "\n",
      "Value of Thread 2:  10\n",
      "Is thread1 alive True\n",
      "Is thread2 alive False\n",
      "Value by Thread 1:  5\n"
     ]
    }
   ],
   "source": [
    "from threading import *\n",
    "from time import sleep\n",
    "\n",
    "def fun1(i):\n",
    "    sleep(5)\n",
    "    print(\"Value by Thread 1: \",i)\n",
    "    \n",
    "def fun2(i):\n",
    "    print(\"Value of Thread 2: \",i)\n",
    "    \n",
    "t1 = Thread(target= fun1,args=(5,))\n",
    "t2 = Thread(target= fun2,args=(10,))\n",
    "\n",
    "#before calling the start(), both Threads are not alive\n",
    "\n",
    "print(\"Is thread1 alive\",t1.is_alive())\n",
    "print(\"Is thread2 alive\",t2.is_alive())\n",
    "print()\n",
    "\n",
    "t1.start()\n",
    "t2.start()\n",
    "\n",
    "#since t1 is on sleep for 5 sec, it is alive\n",
    "#while t2 is executed instantly\n",
    "\n",
    "print(\"Is thread1 alive\",t1.is_alive())\n",
    "print(\"Is thread2 alive\",t2.is_alive())"
   ]
  },
  {
   "cell_type": "code",
   "execution_count": 2,
   "metadata": {},
   "outputs": [
    {
     "name": "stdout",
     "output_type": "stream",
     "text": [
      "Enter your codeDeepika\n",
      "Enter your codeKutti\n",
      "KuttiArticle Details\n",
      "Open the article Deepika\n",
      "read the article Kutti\n"
     ]
    }
   ],
   "source": [
    "class person:\n",
    "    def __init__(self):\n",
    "        self.open=(input(\"Enter your code\"))\n",
    "        if self.open == \"open\":\n",
    "            print(open(new.txt,'r'))\n",
    "            \n",
    "    def personinfo(self):\n",
    "        print(\"Open the article\",self.open)\n",
    "        \n",
    "class article(person):\n",
    "    def __init__(self):\n",
    "        person.__init__(self)\n",
    "        self.read =(input(\"Enter your code\"))\n",
    "        for i in self.read:\n",
    "            print(i,end=\"\")\n",
    "            \n",
    "    def readinfo(self):\n",
    "        print(\"read the article\",self.read)\n",
    "        \n",
    "s1 = article()\n",
    "print(\"Article Details\")\n",
    "s1.personinfo()\n",
    "s1.readinfo()\n"
   ]
  },
  {
   "cell_type": "code",
   "execution_count": null,
   "metadata": {},
   "outputs": [],
   "source": []
  }
 ],
 "metadata": {
  "kernelspec": {
   "display_name": "Python 3",
   "language": "python",
   "name": "python3"
  },
  "language_info": {
   "codemirror_mode": {
    "name": "ipython",
    "version": 3
   },
   "file_extension": ".py",
   "mimetype": "text/x-python",
   "name": "python",
   "nbconvert_exporter": "python",
   "pygments_lexer": "ipython3",
   "version": "3.8.5"
  }
 },
 "nbformat": 4,
 "nbformat_minor": 4
}
