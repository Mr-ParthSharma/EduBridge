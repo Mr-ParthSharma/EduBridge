{
 "cells": [
  {
   "cell_type": "markdown",
   "metadata": {},
   "source": [
    "# POLYMORPHISM"
   ]
  },
  {
   "cell_type": "code",
   "execution_count": 1,
   "metadata": {},
   "outputs": [
    {
     "name": "stdout",
     "output_type": "stream",
     "text": [
      "12\n",
      "7\n"
     ]
    }
   ],
   "source": [
    "print(len('Polymorphism'))\n",
    "print(len([1,2,3,4,5,6,7]))"
   ]
  },
  {
   "cell_type": "code",
   "execution_count": 3,
   "metadata": {},
   "outputs": [
    {
     "name": "stdout",
     "output_type": "stream",
     "text": [
      "divya Sha\n"
     ]
    }
   ],
   "source": [
    "print(\"divya\"+\" Sha\")"
   ]
  },
  {
   "cell_type": "code",
   "execution_count": 5,
   "metadata": {},
   "outputs": [
    {
     "name": "stdout",
     "output_type": "stream",
     "text": [
      "Divya\n",
      "Hindi and English\n",
      "Diksha\n",
      "English\n"
     ]
    }
   ],
   "source": [
    "#polymorphism with class methods\n",
    "class Student:\n",
    "    def name(self):\n",
    "        print(\"Divya\")\n",
    "    def language(self):\n",
    "        print(\"Hindi and English\")\n",
    "class Student1:\n",
    "    def name(self):\n",
    "        print(\"Diksha\")\n",
    "    def language(self):\n",
    "        print(\"English\")\n",
    "        \n",
    "obj1=Student()\n",
    "obj2=Student1()\n",
    "\n",
    "for std in (obj1,obj2):\n",
    "    std.name()\n",
    "    std.language()\n"
   ]
  },
  {
   "cell_type": "markdown",
   "metadata": {},
   "source": [
    "# RUN TIME POLYMORPHISM"
   ]
  },
  {
   "cell_type": "code",
   "execution_count": 10,
   "metadata": {},
   "outputs": [
    {
     "name": "stdout",
     "output_type": "stream",
     "text": [
      "Welcome To Parth's Teaching\n",
      "I knows nothing, Lets learn together\n",
      "Welcome To Parth's Teaching\n",
      "Learn Java with me\n",
      "Welcome To Parth's Teaching\n",
      "Learn Python with me\n"
     ]
    }
   ],
   "source": [
    "class student:\n",
    "    def intro(self):\n",
    "        print(\"Welcome To Parth's Teaching\")\n",
    "        \n",
    "    def course(self):\n",
    "        print(\"I knows nothing, Lets learn together\")\n",
    "        \n",
    "class java(student):\n",
    "    def course(self):\n",
    "        print(\"Learn Java with me\")\n",
    "class python(student):\n",
    "    def course(self):\n",
    "        print(\"Learn Python with me\")\n",
    "        \n",
    "objs = student()\n",
    "objj = java()\n",
    "objp = python()\n",
    "\n",
    "objs.intro()\n",
    "objs.course()\n",
    "\n",
    "objj.intro()\n",
    "objj.course()\n",
    "\n",
    "objp.intro()\n",
    "objp.course()"
   ]
  },
  {
   "cell_type": "code",
   "execution_count": 12,
   "metadata": {},
   "outputs": [
    {
     "name": "stdout",
     "output_type": "stream",
     "text": [
      "Hello Student\n",
      "Parth 24 M 19 2000\n",
      "Hello Student\n",
      "Himanshi 21 F\n"
     ]
    }
   ],
   "source": [
    "class person: #parent class\n",
    "    def __init__(self,name,age,sex):\n",
    "        self.name=name\n",
    "        self.age=age\n",
    "        self.sex=sex\n",
    "    def greet(self):\n",
    "        print(\"Hello Student\")\n",
    "        print(self.name,self.age,self.sex)\n",
    "class student(person): #child class\n",
    "    def __init__(self,name,age,sex,sid,fees):\n",
    "        person.__init__(self,name,age,sex)\n",
    "        self.sid=sid\n",
    "        self.fees=fees\n",
    "    def greet(self):\n",
    "        print(\"Hello Student\")\n",
    "        print(self.name,self.age,self.sex,self.sid,self.fees)\n",
    "stud = student(\"Parth\",24,\"M\",19,2000)\n",
    "stud.greet()\n",
    "\n",
    "p=person(\"Himanshi\",21,\"F\")\n",
    "p.greet()"
   ]
  },
  {
   "cell_type": "markdown",
   "metadata": {},
   "source": [
    "# ENCAPSULATIONS"
   ]
  },
  {
   "cell_type": "code",
   "execution_count": 13,
   "metadata": {},
   "outputs": [
    {
     "name": "stdout",
     "output_type": "stream",
     "text": [
      "Parth\n",
      "24\n",
      "Parth\n",
      "24\n"
     ]
    }
   ],
   "source": [
    "class person:\n",
    "    def __init__(self,name,age):\n",
    "        self.name=name\n",
    "        self.age=age\n",
    "        \n",
    "    def display(self):\n",
    "        print(self.name)\n",
    "        print(self.age)\n",
    "        \n",
    "p = person(\"Parth\",24)\n",
    "#Accessing using class method\n",
    "p.display()\n",
    "#accessing directly using0 outside\n",
    "print(p.name)\n",
    "print(p.age)"
   ]
  },
  {
   "cell_type": "code",
   "execution_count": 15,
   "metadata": {},
   "outputs": [
    {
     "name": "stdout",
     "output_type": "stream",
     "text": [
      "Parth\n",
      "24\n",
      "Trying to access variables from outside the class\n",
      "Parth\n"
     ]
    },
    {
     "ename": "AttributeError",
     "evalue": "'person' object has no attribute '__age'",
     "output_type": "error",
     "traceback": [
      "\u001b[1;31m---------------------------------------------------------------------------\u001b[0m",
      "\u001b[1;31mAttributeError\u001b[0m                            Traceback (most recent call last)",
      "\u001b[1;32m<ipython-input-15-bc02c9a2ece1>\u001b[0m in \u001b[0;36m<module>\u001b[1;34m\u001b[0m\n\u001b[0;32m     14\u001b[0m \u001b[0mprint\u001b[0m\u001b[1;33m(\u001b[0m\u001b[1;34m\"Trying to access variables from outside the class\"\u001b[0m\u001b[1;33m)\u001b[0m\u001b[1;33m\u001b[0m\u001b[1;33m\u001b[0m\u001b[0m\n\u001b[0;32m     15\u001b[0m \u001b[0mprint\u001b[0m\u001b[1;33m(\u001b[0m\u001b[0mp\u001b[0m\u001b[1;33m.\u001b[0m\u001b[0mname\u001b[0m\u001b[1;33m)\u001b[0m\u001b[1;33m\u001b[0m\u001b[1;33m\u001b[0m\u001b[0m\n\u001b[1;32m---> 16\u001b[1;33m \u001b[0mprint\u001b[0m\u001b[1;33m(\u001b[0m\u001b[0mp\u001b[0m\u001b[1;33m.\u001b[0m\u001b[0m__age\u001b[0m\u001b[1;33m)\u001b[0m\u001b[1;33m\u001b[0m\u001b[1;33m\u001b[0m\u001b[0m\n\u001b[0m",
      "\u001b[1;31mAttributeError\u001b[0m: 'person' object has no attribute '__age'"
     ]
    }
   ],
   "source": [
    "class person:\n",
    "    def __init__(self,name,age):\n",
    "        self.name=name\n",
    "        self.__age=age\n",
    "        \n",
    "    def display(self):\n",
    "        print(self.name)\n",
    "        print(self.__age)\n",
    "        \n",
    "p = person(\"Parth\",24)\n",
    "#Accessing using class method\n",
    "p.display()\n",
    "#accessing directly using0 outside\n",
    "print(\"Trying to access variables from outside the class\")\n",
    "print(p.name)\n",
    "print(p.__age)"
   ]
  },
  {
   "cell_type": "code",
   "execution_count": 16,
   "metadata": {},
   "outputs": [
    {
     "name": "stdout",
     "output_type": "stream",
     "text": [
      "Parth\n",
      "24\n",
      "12\n"
     ]
    }
   ],
   "source": [
    "class person:\n",
    "    def __init__(self,name,age):\n",
    "        self.name=name\n",
    "        self.__age=age\n",
    "        \n",
    "    def display(self):\n",
    "        print(self.name)\n",
    "        print(self.__age)\n",
    "        \n",
    "    def getAge(self):\n",
    "        print(self.__age)\n",
    "    def setAge(self,age):\n",
    "        self.__age=age\n",
    "        \n",
    "p = person('Parth',24)\n",
    "\n",
    "p.display()\n",
    "p.setAge(12)\n",
    "p.getAge()"
   ]
  },
  {
   "cell_type": "code",
   "execution_count": 17,
   "metadata": {},
   "outputs": [
    {
     "name": "stdout",
     "output_type": "stream",
     "text": [
      "Class A\n",
      "Class A\n",
      "Class A\n",
      "Class A\n",
      "Class A\n",
      "0\n",
      "1\n",
      "2\n",
      "3\n",
      "4\n"
     ]
    }
   ],
   "source": [
    "class A:\n",
    "    def run(self):\n",
    "        for i in range(5):\n",
    "            print(\"Class A\")\n",
    "            \n",
    "class B:\n",
    "    def run(self):\n",
    "        for i in range(5):\n",
    "            print(i)\n",
    "            \n",
    "a1=A()\n",
    "a2=B()\n",
    "\n",
    "a1.run()\n",
    "a2.run()"
   ]
  },
  {
   "cell_type": "code",
   "execution_count": 20,
   "metadata": {},
   "outputs": [
    {
     "name": "stdout",
     "output_type": "stream",
     "text": [
      "Class A\n",
      "Class A\n",
      "0\n",
      "1\n",
      "2\n",
      "3\n",
      "4\n",
      "5\n",
      "6\n",
      "7\n",
      "8\n",
      "9\n",
      "10\n",
      "Class A\n",
      "Class A\n",
      "Class A\n",
      "Class A\n",
      "Class A\n",
      "Class A\n",
      "11\n",
      "12\n",
      "13\n",
      "14\n",
      "Class A\n",
      "Class A\n",
      "Class A\n",
      "Class A\n",
      "Class A\n",
      "Class A\n",
      "Class A\n",
      "Class A\n",
      "Class A\n",
      "Class A\n",
      "Class A\n",
      "Class A\n"
     ]
    }
   ],
   "source": [
    "from threading import *\n",
    "class A(Thread):\n",
    "    def run(self):\n",
    "        for i in range(20):\n",
    "            print(\"Class A\")\n",
    "            \n",
    "class B(Thread):\n",
    "    def run(self):\n",
    "        for i in range(15):\n",
    "            print(i)\n",
    "            \n",
    "a1=A()\n",
    "a2=B()\n",
    "\n",
    "a1.start()\n",
    "a2.start()"
   ]
  },
  {
   "cell_type": "code",
   "execution_count": 1,
   "metadata": {},
   "outputs": [
    {
     "name": "stdout",
     "output_type": "stream",
     "text": [
      "Class A\n",
      "0\n",
      "Class A\n",
      "1\n",
      "Class A\n",
      "Class A\n",
      "2\n",
      "Class A\n",
      "3\n",
      "Class A\n",
      "Class A\n",
      "4\n",
      "Class A\n",
      "Class A\n",
      "5\n",
      "Class A\n",
      "6\n",
      "Class A\n",
      "Class A\n",
      "7\n",
      "Class A\n",
      "Class A\n",
      "8\n",
      "Class A\n",
      "9\n",
      "Class A\n",
      "Class A\n",
      "10\n",
      "Class A\n",
      "Class A\n",
      "11\n",
      "Class A\n",
      "12\n",
      "13\n",
      "14\n"
     ]
    }
   ],
   "source": [
    "from threading import *\n",
    "from time import sleep\n",
    "class A(Thread):\n",
    "    def run(self):\n",
    "        for i in range(20):\n",
    "            print(\"Class A\")\n",
    "            sleep(3)\n",
    "            \n",
    "class B(Thread):\n",
    "    def run(self):\n",
    "        for i in range(15):\n",
    "            print(i)\n",
    "            sleep(5)\n",
    "            \n",
    "a1=A()\n",
    "a2=B()\n",
    "\n",
    "a1.start()\n",
    "a2.start()"
   ]
  },
  {
   "cell_type": "code",
   "execution_count": 2,
   "metadata": {},
   "outputs": [
    {
     "name": "stdout",
     "output_type": "stream",
     "text": [
      "Class A\n",
      "0\n",
      "Class A\n",
      "1\n",
      "Class A\n",
      "Class A\n",
      "2\n",
      "Class A\n",
      "3\n",
      "Class A\n",
      "Class A\n",
      "4\n",
      "Class A\n",
      "Class A\n",
      "5\n",
      "Class A\n",
      "6\n",
      "Class A\n",
      "Class A\n",
      "7\n",
      "Class A\n",
      "Class A\n",
      "8\n",
      "Class A\n",
      "9\n",
      "Class A\n",
      "Class A\n",
      "10\n",
      "Class A\n",
      "Class A\n",
      "11\n",
      "Class A\n",
      "12\n",
      "13\n",
      "14\n",
      "Execution is Completed\n"
     ]
    }
   ],
   "source": [
    "from threading import *\n",
    "from time import sleep\n",
    "class A(Thread):\n",
    "    def run(self):\n",
    "        for i in range(20):\n",
    "            print(\"Class A\")\n",
    "            sleep(3)\n",
    "            \n",
    "class B(Thread):\n",
    "    def run(self):\n",
    "        for i in range(15):\n",
    "            print(i)\n",
    "            sleep(5)\n",
    "            \n",
    "a1=A()\n",
    "a2=B()\n",
    "\n",
    "a1.start()\n",
    "a2.start()\n",
    "\n",
    "a1.join()\n",
    "a2.join()\n",
    "\n",
    "print(\"Execution is Completed\")"
   ]
  },
  {
   "cell_type": "code",
   "execution_count": 9,
   "metadata": {},
   "outputs": [
    {
     "name": "stdout",
     "output_type": "stream",
     "text": [
      "Class A\n",
      "Class A0\n",
      "1\n",
      "2\n",
      "3\n",
      "4\n",
      "5\n",
      "6\n",
      "7\n",
      "8\n",
      "9\n",
      "10\n",
      "11\n",
      "12\n",
      "13\n",
      "14\n",
      "\n",
      "Class A\n",
      "Class A\n",
      "Class A\n",
      "Class A\n",
      "Class A\n",
      "Class A\n",
      "Class A\n",
      "Class A\n",
      "Execution is Completed\n"
     ]
    }
   ],
   "source": [
    "from threading import *\n",
    "from time import sleep\n",
    "class A(Thread):\n",
    "    def run(self):\n",
    "        for i in range(10):\n",
    "            print(\"Class A\")\n",
    "            \n",
    "            \n",
    "class B(Thread):\n",
    "    def run(self):\n",
    "        for i in range(15):\n",
    "            print(i)\n",
    "            \n",
    "            \n",
    "a1=A()\n",
    "a2=B()\n",
    "\n",
    "a1.start()\n",
    "a2.start()\n",
    "\n",
    "a1.join(10)\n",
    "a2.join(15)\n",
    "\n",
    "print(\"Execution is Completed\")"
   ]
  },
  {
   "cell_type": "code",
   "execution_count": 12,
   "metadata": {},
   "outputs": [
    {
     "name": "stdout",
     "output_type": "stream",
     "text": [
      "I Love Myself!!!\n",
      "I Love Myself!!!\n",
      "I Love Myself!!!\n",
      "I Love Myself!!!\n",
      "I Love Myself!!!\n",
      "MainThread\n",
      "Creating a thread object without class.. MainThread\n"
     ]
    }
   ],
   "source": [
    "#Thread without using a class\n",
    "\n",
    "from threading import *\n",
    "\n",
    "def show():\n",
    "    for i in range(5):\n",
    "        print(\"I Love Myself!!!\")\n",
    "        \n",
    "obj = Thread(target = show())\n",
    "\n",
    "print(current_thread().getName())\n",
    "\n",
    "obj.start()\n",
    "obj.join()\n",
    "print(\"Creating a thread object without class..\",current_thread().getName())"
   ]
  },
  {
   "cell_type": "code",
   "execution_count": 13,
   "metadata": {},
   "outputs": [
    {
     "name": "stdout",
     "output_type": "stream",
     "text": [
      "Hello Thread-27\n",
      "World Thread-28\n",
      "HelloWorld  Thread-27\n",
      "Thread-28\n",
      "WorldHello Thread-27\n",
      " Thread-28\n",
      "WorldHello Thread-27 Thread-28\n",
      "\n",
      "WorldHello  Thread-27\n",
      "Thread-28\n",
      "WorldHello Thread-27\n",
      " Thread-28\n",
      "WorldHello Thread-27\n",
      " Thread-28\n",
      "HelloWorld Thread-28\n",
      " Thread-27\n",
      "HelloWorld Thread-28\n",
      " Thread-27\n",
      "WorldHello Thread-27\n",
      " Thread-28\n",
      "World Thread-28\n",
      "World Thread-28\n",
      "World Thread-28\n",
      "World Thread-28\n",
      "World Thread-28\n",
      "Multithreading is completed MainThread\n"
     ]
    }
   ],
   "source": [
    "from threading import *\n",
    "from time import sleep\n",
    "\n",
    "#running Simultaneously\n",
    "\n",
    "class A(Thread):\n",
    "    def run(self):\n",
    "        for i in range(10):\n",
    "            print(\"Hello\",current_thread().getName())\n",
    "            sleep(1)\n",
    "            \n",
    "            \n",
    "class B(Thread):\n",
    "    def run(self):\n",
    "        for i in range(15):\n",
    "            print(\"World\",current_thread().getName())\n",
    "            sleep(1)\n",
    "            \n",
    "            \n",
    "a1=A()\n",
    "a2=B()\n",
    "\n",
    "a1.start()\n",
    "a2.start()\n",
    "\n",
    "a1.join(10)\n",
    "a2.join(15)\n",
    "\n",
    "print(\"Multithreading is completed\",current_thread().getName(J\n",
    "                                                             0[]))"
   ]
  },
  {
   "cell_type": "code",
   "execution_count": 15,
   "metadata": {},
   "outputs": [
    {
     "ename": "AttributeError",
     "evalue": "'A' object has no attribute 'show'",
     "output_type": "error",
     "traceback": [
      "\u001b[1;31m---------------------------------------------------------------------------\u001b[0m",
      "\u001b[1;31mAttributeError\u001b[0m                            Traceback (most recent call last)",
      "\u001b[1;32m<ipython-input-15-184bfd27826a>\u001b[0m in \u001b[0;36m<module>\u001b[1;34m\u001b[0m\n\u001b[0;32m     17\u001b[0m \u001b[0ma1\u001b[0m\u001b[1;33m=\u001b[0m\u001b[0mA\u001b[0m\u001b[1;33m(\u001b[0m\u001b[1;33m)\u001b[0m\u001b[1;33m\u001b[0m\u001b[1;33m\u001b[0m\u001b[0m\n\u001b[0;32m     18\u001b[0m \u001b[0ma2\u001b[0m\u001b[1;33m=\u001b[0m\u001b[0mB\u001b[0m\u001b[1;33m(\u001b[0m\u001b[1;33m)\u001b[0m\u001b[1;33m\u001b[0m\u001b[1;33m\u001b[0m\u001b[0m\n\u001b[1;32m---> 19\u001b[1;33m \u001b[0mt1\u001b[0m\u001b[1;33m=\u001b[0m\u001b[0mThread\u001b[0m\u001b[1;33m(\u001b[0m\u001b[0mtarget\u001b[0m\u001b[1;33m=\u001b[0m\u001b[0ma1\u001b[0m\u001b[1;33m.\u001b[0m\u001b[0mshow\u001b[0m\u001b[1;33m)\u001b[0m\u001b[1;33m\u001b[0m\u001b[1;33m\u001b[0m\u001b[0m\n\u001b[0m\u001b[0;32m     20\u001b[0m \u001b[0mt2\u001b[0m\u001b[1;33m=\u001b[0m\u001b[0mThread\u001b[0m\u001b[1;33m(\u001b[0m\u001b[0mtarget\u001b[0m\u001b[1;33m=\u001b[0m\u001b[0ma2\u001b[0m\u001b[1;33m.\u001b[0m\u001b[0mshow\u001b[0m\u001b[1;33m)\u001b[0m\u001b[1;33m\u001b[0m\u001b[1;33m\u001b[0m\u001b[0m\n\u001b[0;32m     21\u001b[0m \u001b[1;33m\u001b[0m\u001b[0m\n",
      "\u001b[1;31mAttributeError\u001b[0m: 'A' object has no attribute 'show'"
     ]
    }
   ],
   "source": [
    "from threading import *\n",
    "\n",
    "#running Simultaneously\n",
    "\n",
    "class A:\n",
    "    def run(self):\n",
    "        for i in range(10):\n",
    "            print(\"Hello\")\n",
    "            \n",
    "            \n",
    "class B:\n",
    "    def run(self):\n",
    "        for i in range(15):\n",
    "            print(\"World\")\n",
    "            \n",
    "            \n",
    "a1=A()\n",
    "a2=B()\n",
    "t1=Thread(target=a1.show)\n",
    "t2=Thread(target=a2.show)\n",
    "\n",
    "t1.start()\n",
    "t2.start()\n",
    "\n",
    "t1.join(10)\n",
    "t2.join(15)"
   ]
  },
  {
   "cell_type": "code",
   "execution_count": null,
   "metadata": {},
   "outputs": [],
   "source": []
  }
 ],
 "metadata": {
  "kernelspec": {
   "display_name": "Python 3",
   "language": "python",
   "name": "python3"
  },
  "language_info": {
   "codemirror_mode": {
    "name": "ipython",
    "version": 3
   },
   "file_extension": ".py",
   "mimetype": "text/x-python",
   "name": "python",
   "nbconvert_exporter": "python",
   "pygments_lexer": "ipython3",
   "version": "3.8.5"
  }
 },
 "nbformat": 4,
 "nbformat_minor": 4
}
