{
 "cells": [
  {
   "cell_type": "markdown",
   "metadata": {},
   "source": [
    "# Assignment 1"
   ]
  },
  {
   "cell_type": "code",
   "execution_count": 1,
   "metadata": {},
   "outputs": [],
   "source": [
    "#BASIC PYTHON COMMANDS"
   ]
  },
  {
   "cell_type": "code",
   "execution_count": 8,
   "metadata": {},
   "outputs": [
    {
     "name": "stdout",
     "output_type": "stream",
     "text": [
      "Sun =  112\n",
      "Subs =  -22\n",
      "Multi =  3015\n",
      "Div =  0.6716417910447762\n"
     ]
    }
   ],
   "source": [
    "\"\"\"Q1) Write a program in Python to add, subtract, multiply and divide two numbers.\"\"\"\n",
    "a = 45\n",
    "b = 67\n",
    "\n",
    "print(\"Sun = \",a+b) #Addition\n",
    "print(\"Subs = \",a-b) #Substraction\n",
    "print(\"Multi = \",a*b) #Multiplication\n",
    "print(\"Div = \",a/b) #Division"
   ]
  },
  {
   "cell_type": "code",
   "execution_count": 16,
   "metadata": {},
   "outputs": [
    {
     "data": {
      "text/plain": [
       "'Q2) Write a program to calculate the area of \\nCircle \\nRectangle\\nSquare \\nTriangle.'"
      ]
     },
     "execution_count": 16,
     "metadata": {},
     "output_type": "execute_result"
    }
   ],
   "source": [
    "\"\"\"Q2) Write a program to calculate the area of \n",
    "Circle \n",
    "Rectangle\n",
    "Square \n",
    "Triangle.\"\"\""
   ]
  },
  {
   "cell_type": "code",
   "execution_count": 11,
   "metadata": {},
   "outputs": [
    {
     "name": "stdout",
     "output_type": "stream",
     "text": [
      " Please Enter the radius of a circle: 3.25\n",
      "The area of Circle is: 33.16625\n"
     ]
    }
   ],
   "source": [
    "# Area of Circle\n",
    "\n",
    "PI = 3.14\n",
    "radius = float(input(' Please Enter the radius of a circle: '))\n",
    "area = PI * radius * radius\n",
    "\n",
    "print(\"The area of Circle is:\", area)"
   ]
  },
  {
   "cell_type": "code",
   "execution_count": 13,
   "metadata": {},
   "outputs": [
    {
     "name": "stdout",
     "output_type": "stream",
     "text": [
      "Enter the length of the rectangle: 35\n",
      "Enter the breadth of the rectangle: 25\n",
      "The area of Rectangle is 875\n"
     ]
    }
   ],
   "source": [
    "# Area of Rectangle\n",
    "\n",
    "lenght = int(input(\"Enter the length of the rectangle: \"))\n",
    "breadth = int(input(\"Enter the breadth of the rectangle: \"))\n",
    "area = lenght*breadth\n",
    "\n",
    "print (\"The area of Rectangle is\", area)"
   ]
  },
  {
   "cell_type": "code",
   "execution_count": 14,
   "metadata": {},
   "outputs": [
    {
     "name": "stdout",
     "output_type": "stream",
     "text": [
      "Enter the side of Square: 5\n",
      "The area of square is:  25\n"
     ]
    }
   ],
   "source": [
    "# Area of Square\n",
    "\n",
    "sides_of_Sq = int(input(\"Enter the side of Square: \"))\n",
    "area = sides_of_Sq**2\n",
    "\n",
    "print (\"The area of square is: \", area)"
   ]
  },
  {
   "cell_type": "code",
   "execution_count": 15,
   "metadata": {},
   "outputs": [
    {
     "name": "stdout",
     "output_type": "stream",
     "text": [
      "The area of the triangle is 90.0\n"
     ]
    }
   ],
   "source": [
    "# Area of Triangle\n",
    "\n",
    "base = 15\n",
    "height = 12\n",
    "\n",
    "\n",
    "\n",
    "# calculate the area\n",
    "area = (base*height)/2\n",
    "print(\"The area of the triangle is\", area)"
   ]
  },
  {
   "cell_type": "code",
   "execution_count": 18,
   "metadata": {},
   "outputs": [
    {
     "name": "stdout",
     "output_type": "stream",
     "text": [
      "Before Swap 9 6\n",
      "After Swap 6 9\n"
     ]
    }
   ],
   "source": [
    "#Q3) Write a program to swap the two numbers.\n",
    "# Let the numbers be x and y\n",
    "\n",
    "x = 9\n",
    "y = 6\n",
    "\n",
    "print(\"Before Swap\",x,y)\n",
    "temp = x\n",
    "x = y\n",
    "y = temp\n",
    "\n",
    "print(\"After Swap\",x,y)\n"
   ]
  },
  {
   "cell_type": "code",
   "execution_count": 19,
   "metadata": {},
   "outputs": [
    {
     "name": "stdout",
     "output_type": "stream",
     "text": [
      "Before Swap 5 10\n",
      "After Swap 10 5\n"
     ]
    }
   ],
   "source": [
    " # Q4) Write a program to find swap two numbers without using a third variable\n",
    "# Let the numbers be\n",
    "x = 5\n",
    "y = 10\n",
    "\n",
    "print(\"Before Swap\",x,y)\n",
    "\n",
    "x, y = y, x\n",
    "\n",
    "print(\"After Swap\",x,y)"
   ]
  },
  {
   "cell_type": "code",
   "execution_count": 20,
   "metadata": {},
   "outputs": [
    {
     "name": "stdout",
     "output_type": "stream",
     "text": [
      "Enter a principle Amount: 10000\n",
      "Enter a specific Rate Of Interest: 5\n",
      "For how many years: 2\n",
      "The Simple interest is 1000.0\n"
     ]
    }
   ],
   "source": [
    "#Q5) Write a program to calculate Simple Interest.\n",
    "\n",
    "#Simple Interest Formula :SI = (P * R * T) / 100\n",
    "\n",
    "p = int(input(\"Enter a principle Amount: \"))\n",
    "r = int(input(\"Enter a specific Rate Of Interest: \"))\n",
    "t = int(input(\"For how many years: \"))\n",
    "SI = (p*r*t)/100\n",
    "\n",
    "print(\"The Simple interest is\", SI)"
   ]
  },
  {
   "cell_type": "code",
   "execution_count": 43,
   "metadata": {},
   "outputs": [
    {
     "name": "stdout",
     "output_type": "stream",
     "text": [
      "56.0\n"
     ]
    }
   ],
   "source": [
    " # Q6) Write a program to calculate the average of five numbers.\n",
    "a,b,c,d,e=86,89,25,45,35\n",
    "Avg = (a+b+c+d+e)/5\n",
    "print(Avg)\n",
    "    "
   ]
  },
  {
   "cell_type": "code",
   "execution_count": 44,
   "metadata": {},
   "outputs": [
    {
     "name": "stdout",
     "output_type": "stream",
     "text": [
      "Enter the number: 654\n",
      "The reverse number is : 456\n"
     ]
    }
   ],
   "source": [
    "#Q7)Write a program to reverse the two digit number.\n",
    "\n",
    "number = int(input(\"Enter the number: \"))  \n",
    "revs_number = 0  \n",
    "  \n",
    "while (number > 0):  \n",
    "    remainder = number % 10  \n",
    "    revs_number = (revs_number * 10) + remainder  \n",
    "    number = number // 10  \n",
    "print(\"The reverse number is :\", revs_number)"
   ]
  },
  {
   "cell_type": "code",
   "execution_count": 45,
   "metadata": {},
   "outputs": [
    {
     "name": "stdout",
     "output_type": "stream",
     "text": [
      "Please Enter the 1st value point a: 12\n",
      "Please Enter the 2nd value point b: 24\n",
      "Please Enter the 3rd value point c: 56\n",
      "The value of Discriminent is:  -2112\n"
     ]
    }
   ],
   "source": [
    "# Q8) Write a program that uses Discriminant.\n",
    "\n",
    "\n",
    "#Take 3 point's as a input value \n",
    "a = int(input('Please Enter the 1st value point a: '))\n",
    "b = int(input('Please Enter the 2nd value point b: '))\n",
    "c = int(input('Please Enter the 3rd value point c: '))\n",
    "   \n",
    "#calculate the Discriminant value.\n",
    "dis = (b**2) - (4*a*c)\n",
    "print (\"The value of Discriminent is: \", dis)"
   ]
  },
  {
   "cell_type": "code",
   "execution_count": 46,
   "metadata": {},
   "outputs": [
    {
     "name": "stdout",
     "output_type": "stream",
     "text": [
      "The volume of Cone is:  261.9047619047619\n",
      "The Volume Of Cuboid is:  720\n",
      "The Volume of Cylinder is:  340.26339285714283\n"
     ]
    }
   ],
   "source": [
    " # Q9) Write a program to find the volumes of a cone, cuboid and cylinder.\n",
    "\n",
    "# cone\n",
    "\n",
    "radius = 5\n",
    "height = 10\n",
    "\n",
    "# Formula for volume of Cone: Volume = 1/3 πr²h (where h= height of a Cone, and r= radius of cone)\n",
    "vol_of_cone = (1/3) * 22/7 * radius * radius * height\n",
    "\n",
    "print (\"The volume of Cone is: \", vol_of_cone)\n",
    "\n",
    "\n",
    "\n",
    "#Cuboid\n",
    "\n",
    "len = 9\n",
    "wid = 8\n",
    "hei = 10\n",
    "\n",
    "# Calculate the Volume: Volume = length * width * height\n",
    "\n",
    "vol_of_cub = len * wid * hei\n",
    "print (\"The Volume Of Cuboid is: \", vol_of_cub)\n",
    "\n",
    "\n",
    "\n",
    "# Let the dimensions of Cylinder be\n",
    "\n",
    "rad = 3.25\n",
    "heig = 10.25\n",
    "\n",
    "#Formula for Volume of Cylinder =  πr²h\n",
    "vol_of_cyl = 22/7 * rad * rad * heig\n",
    "print (\"The Volume of Cylinder is: \", vol_of_cyl)"
   ]
  },
  {
   "cell_type": "code",
   "execution_count": 48,
   "metadata": {},
   "outputs": [
    {
     "name": "stdout",
     "output_type": "stream",
     "text": [
      "Enter Basic Salary :25000\n",
      " BASIC SALARY :  25000\n",
      " DEARNESS ALLOW :  2500\n",
      " HOUSE RENT ALLOW :  3750\n",
      " PROVIDENT FUND :  19250\n",
      " NET SALARY PAY :  50500\n"
     ]
    }
   ],
   "source": [
    "\"\"\"Q10) Write a program to calculate the net salary of an employee whose basic salary is given the user where DA = 10% of \n",
    "    salary, HRA = 15% of salary and PF = 7% of salary.\"\"\"\n",
    "\n",
    "\n",
    "#Calculate the Gross Salary of an employee for following allowance & deduction.\n",
    "#Get Basic Salary of Employee,\n",
    "#DA = 10% of salary,\n",
    "#HRA = 15% of salary,\n",
    "#PF = 12% of salary,\n",
    "#Net Income = Basic + DA + HRA + PF\n",
    "\n",
    "basic=int(input(\"Enter Basic Salary :\"))\n",
    "da=int(basic*0.1)\n",
    "hra=int(basic*0.15)\n",
    "pf=int((basic+da)*0.7)\n",
    "netpay=int(basic+da+hra+pf)\n",
    "\n",
    "print(\" BASIC SALARY : \",basic)\n",
    "print(\" DEARNESS ALLOW : \",da)\n",
    "print(\" HOUSE RENT ALLOW : \",hra)\n",
    "print(\" PROVIDENT FUND : \",pf)\n",
    "print(\" NET SALARY PAY : \",netpay)\n"
   ]
  },
  {
   "cell_type": "code",
   "execution_count": null,
   "metadata": {},
   "outputs": [],
   "source": []
  }
 ],
 "metadata": {
  "kernelspec": {
   "display_name": "Python 3",
   "language": "python",
   "name": "python3"
  },
  "language_info": {
   "codemirror_mode": {
    "name": "ipython",
    "version": 3
   },
   "file_extension": ".py",
   "mimetype": "text/x-python",
   "name": "python",
   "nbconvert_exporter": "python",
   "pygments_lexer": "ipython3",
   "version": "3.8.5"
  }
 },
 "nbformat": 4,
 "nbformat_minor": 4
}
