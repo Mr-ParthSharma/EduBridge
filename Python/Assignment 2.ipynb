{
 "cells": [
  {
   "cell_type": "markdown",
   "metadata": {},
   "source": [
    "# Assignment 2"
   ]
  },
  {
   "cell_type": "code",
   "execution_count": 1,
   "metadata": {},
   "outputs": [
    {
     "name": "stdout",
     "output_type": "stream",
     "text": [
      "Enter a Value: 598\n",
      "598  is a Even Number\n"
     ]
    }
   ],
   "source": [
    "# Q1) WAP to check a number is Odd and Even\n",
    "\n",
    "Num = int(input(\"Enter a Value: \"))\n",
    "if Num % 2 == 0:\n",
    "    print(Num,\" is a Even Number\")\n",
    "else:\n",
    "    print(Num,\" is a Odd Number\")"
   ]
  },
  {
   "cell_type": "code",
   "execution_count": 10,
   "metadata": {},
   "outputs": [
    {
     "name": "stdout",
     "output_type": "stream",
     "text": [
      "Enter a Year: 2031\n",
      "2031  is not a leap year\n"
     ]
    }
   ],
   "source": [
    "# Q2) WAP to find if a Year is leap year or not\n",
    "\n",
    "Year = int(input(\"Enter a Year: \"))\n",
    "if(Year%4==0 and Year%100!=0):\n",
    "  print(Year,\" is a leap year\");\n",
    "elif(Year%400==0):\n",
    "  print(Year,\" is a leap year\");\n",
    "else:\n",
    "  print(Year,\" is not a leap year\");"
   ]
  },
  {
   "cell_type": "code",
   "execution_count": 12,
   "metadata": {},
   "outputs": [
    {
     "name": "stdout",
     "output_type": "stream",
     "text": [
      "Enter the Number of the Student: 29\n",
      "Grade F\n"
     ]
    }
   ],
   "source": [
    "\"\"\" WAP to calculate the grade of a std on the basis of given creteria, if marks is gt 90 grade A, \n",
    "marks gt 75 grade B, marks gt 65 grade C, If marks gt 55 grade D, else grade F\"\"\"\n",
    "\n",
    "Marks = int(input(\"Enter the Number of the Student: \"))\n",
    "\n",
    "if Marks > 90:\n",
    "    print(\"Grade A\")\n",
    "elif Marks > 75:\n",
    "    print(\"Grade B\")\n",
    "elif Marks > 65:\n",
    "    print(\"Grade C\")\n",
    "elif Marks > 55:\n",
    "    print(\"Grade D\")\n",
    "elif Marks > 30:\n",
    "    print(\"Grade E\")\n",
    "else:\n",
    "    print(\"Grade F\")"
   ]
  },
  {
   "cell_type": "code",
   "execution_count": 20,
   "metadata": {},
   "outputs": [
    {
     "name": "stdout",
     "output_type": "stream",
     "text": [
      "Enter the unit whose bill you want to know, Unit = 700\n",
      "Bill for  700  unit is  1600\n"
     ]
    }
   ],
   "source": [
    "\"\"\" WAP to calculate the electricity bill for 1st 100 rs charge 1 rupee, for next 100 unit 1.5/unit,\n",
    "for 200-300 it will be rs 2/unit, 301-400 it will be 2.5/unit and for 401-... it will be 3/unit.\"\"\"\n",
    "\n",
    "Unit = int(input(\"Enter the unit whose bill you want to know, Unit = \"))\n",
    "if Unit <= 100:\n",
    "    Bill = Unit*1\n",
    "    print(\"Bill for \",Unit,\" unit is \",Bill)\n",
    "elif Unit in range(101,200):\n",
    "    Bill = 100+(Unit-100)*1.5\n",
    "    print(\"Bill for \",Unit,\" unit is \",Bill)\n",
    "elif Unit in range(201,300):\n",
    "    Bill = 250+(Unit-200)*2\n",
    "    print(\"Bill for \",Unit,\" unit is \",Bill)\n",
    "elif Unit in range(301,400):\n",
    "    Bill = 450+(Unit-300)*2.5\n",
    "    print(\"Bill for \",Unit,\" unit is \",Bill)\n",
    "else:\n",
    "    Bill = 700+(Unit-400)*3\n",
    "    print(\"Bill for \",Unit,\" unit is \",Bill)"
   ]
  },
  {
   "cell_type": "code",
   "execution_count": 48,
   "metadata": {},
   "outputs": [
    {
     "name": "stdout",
     "output_type": "stream",
     "text": [
      "Some Numbers are equal\n"
     ]
    }
   ],
   "source": [
    "#WAP to print the number in accending number(without loop)\n",
    "\n",
    "a = 115\n",
    "b = 95\n",
    "c = 95\n",
    "\n",
    "if a > b and a > c and b > c:\n",
    "    print(a,b,c)\n",
    "elif a > b and a > c and c > b:\n",
    "    print(a,c,b)\n",
    "elif b > a and b > c and a > c:\n",
    "    print(b,a,c)\n",
    "elif b > a and b > c and c > a:\n",
    "    print(b,c,a)\n",
    "elif c > a and c > b and a > b:\n",
    "    print(c,a,b)\n",
    "elif c > a and c > b and b > a:\n",
    "    print(c,b,a)\n",
    "else:\n",
    "    print(\"Some Numbers are equal\")"
   ]
  },
  {
   "cell_type": "code",
   "execution_count": 64,
   "metadata": {},
   "outputs": [
    {
     "name": "stdout",
     "output_type": "stream",
     "text": [
      "Press 1 to get the area of circle\n",
      "Press 2 to get the area of rectangle\n",
      "Press 3 to get the area of square\n",
      "Press 4 to get the area of triangle\n",
      "Enter a value between 1 to 4: 5\n",
      "Please enter a valid number between 1 to 4\n"
     ]
    }
   ],
   "source": [
    "# WAP to display a menu driven program to calculate the area of 4 shape.\n",
    "\n",
    "print(\"Press 1 to get the area of circle\")\n",
    "print(\"Press 2 to get the area of rectangle\")\n",
    "print(\"Press 3 to get the area of square\")\n",
    "print(\"Press 4 to get the area of triangle\")\n",
    "num = int(input(\"Enter a value between 1 to 4: \"))\n",
    "if num == 1:\n",
    "    print(\"To get the area of a circle enter the following:\")\n",
    "    r = float(input(\"Radius: \"))\n",
    "    pi = 3.14\n",
    "    area = pi*r*r\n",
    "    print(\"The area of the Circle is: \",area)\n",
    "elif num == 2:\n",
    "    print(\"To get the area of a rectangle enter the following:\")\n",
    "    l = int(input(\"Lenght: \"))\n",
    "    b = int(input(\"Breadth: \"))\n",
    "    area = 2*(l*b)\n",
    "    print(\"The area of the rectangle is: \",area)\n",
    "elif num == 3:\n",
    "    print(\"To get the area of the Square enter the following:\")\n",
    "    l = int(input(\"Lenght: \"))\n",
    "    area = l**2\n",
    "    print(\"The area of the square is: \",area)\n",
    "elif num == 4:\n",
    "    print(\"To get the area of a triangle enter the following:\")\n",
    "    b = int(input(\"Base: \"))\n",
    "    h = int(input(\"Height: \"))\n",
    "    area = (b*h)/2\n",
    "    print(\"The area of the Triangle: \",area)\n",
    "else:\n",
    "    print(\"Please enter a valid number between 1 to 4\")\n",
    "    "
   ]
  },
  {
   "cell_type": "code",
   "execution_count": 66,
   "metadata": {},
   "outputs": [
    {
     "name": "stdout",
     "output_type": "stream",
     "text": [
      "To find the day of a week, please enter a number between 1 - 7\n",
      "number: 5\n",
      "The day is Friday\n"
     ]
    }
   ],
   "source": [
    "#WAP to enter a number between 1-7 and print the respective day.\n",
    "print(\"To find the day of a week, please enter a number between 1 - 7\")\n",
    "day = int(input(\"number: \"))\n",
    "if day == 1:\n",
    "    print(\"The day is Monday\")\n",
    "elif day == 2:\n",
    "    print(\"The day is Tuesday\")\n",
    "elif day == 3:\n",
    "    print(\"The day is Wednesday\")\n",
    "elif day == 4:\n",
    "    print(\"The day is Thrusday\")\n",
    "elif day == 5:\n",
    "    print(\"The day is Friday\")\n",
    "elif day == 6:\n",
    "    print(\"The day is Saturday\")\n",
    "elif day == 7:\n",
    "    print(\"The day is Sunday\")\n",
    "else:\n",
    "    print(\"Enter a valid number between 1 to 7\")"
   ]
  },
  {
   "cell_type": "code",
   "execution_count": null,
   "metadata": {},
   "outputs": [],
   "source": []
  }
 ],
 "metadata": {
  "kernelspec": {
   "display_name": "Python 3",
   "language": "python",
   "name": "python3"
  },
  "language_info": {
   "codemirror_mode": {
    "name": "ipython",
    "version": 3
   },
   "file_extension": ".py",
   "mimetype": "text/x-python",
   "name": "python",
   "nbconvert_exporter": "python",
   "pygments_lexer": "ipython3",
   "version": "3.8.5"
  }
 },
 "nbformat": 4,
 "nbformat_minor": 4
}
