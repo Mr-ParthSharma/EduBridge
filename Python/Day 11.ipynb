{
 "cells": [
  {
   "cell_type": "markdown",
   "metadata": {},
   "source": [
    "# Syntax of Class"
   ]
  },
  {
   "cell_type": "markdown",
   "metadata": {},
   "source": [
    "# init() and self"
   ]
  },
  {
   "cell_type": "code",
   "execution_count": 1,
   "metadata": {},
   "outputs": [
    {
     "name": "stdout",
     "output_type": "stream",
     "text": [
      "10\n"
     ]
    }
   ],
   "source": [
    "class my:\n",
    "    v=10\n",
    "    \n",
    "obj=my()\n",
    "print(obj.v)"
   ]
  },
  {
   "cell_type": "code",
   "execution_count": 4,
   "metadata": {},
   "outputs": [
    {
     "name": "stdout",
     "output_type": "stream",
     "text": [
      "id: 5\n",
      "Name: Parth\n",
      "Welcome for joining !!! Parth\n"
     ]
    }
   ],
   "source": [
    "class employee:\n",
    "    def __init__(self,name,eid):\n",
    "        self.name=name\n",
    "        self.eid=eid\n",
    "    \n",
    "    def greet(self):\n",
    "        print(\"Welcome for joining !!!\",self.name)\n",
    "        \n",
    "emp1 = employee(\"Parth\",5)\n",
    "\n",
    "print(\"id:\",emp1.eid)\n",
    "print(\"Name:\",emp1.name)\n",
    "emp1.greet()"
   ]
  },
  {
   "cell_type": "code",
   "execution_count": 5,
   "metadata": {},
   "outputs": [
    {
     "name": "stdout",
     "output_type": "stream",
     "text": [
      "Enter Your Name: Edubridge\n",
      "Id:1\n",
      "id: 1\n",
      "Name: Edubridge\n",
      "Welcome for joining !!! Edubridge\n"
     ]
    }
   ],
   "source": [
    "class employee:\n",
    "    def __init__(self,name,eid):\n",
    "        self.name=name\n",
    "        self.eid=eid\n",
    "    \n",
    "    def greet(self):\n",
    "        print(\"Welcome for joining !!!\",self.name)\n",
    "\n",
    "a=input(\"Enter Your Name: \")\n",
    "b=int(input(\"Id:\"))\n",
    "emp1 = employee(a,b)\n",
    "\n",
    "print(\"id:\",emp1.eid)\n",
    "print(\"Name:\",emp1.name)\n",
    "emp1.greet()"
   ]
  },
  {
   "cell_type": "code",
   "execution_count": 10,
   "metadata": {},
   "outputs": [
    {
     "name": "stdout",
     "output_type": "stream",
     "text": [
      "Student ID: 1\n",
      "Student Name: Parth\n",
      "Student Roll: 19\n",
      "Student Class: Graduate\n"
     ]
    }
   ],
   "source": [
    "class Student:\n",
    "    def __init__(self,sId,sName,sRoll,sClass):\n",
    "        self.sId=sId\n",
    "        self.sName=sName\n",
    "        self.sRoll=sRoll\n",
    "        self.sClass=sClass\n",
    "    def s_info(self):\n",
    "        print(\"Student ID:\",self.sId)\n",
    "        print(\"Student Name:\",self.sName)\n",
    "        print(\"Student Roll:\",self.sRoll)\n",
    "        print(\"Student Class:\",self.sClass)\n",
    "        \n",
    "Stud = Student(1,\"Parth\",19,\"Graduate\")\n",
    "\n",
    "Stud.s_info()\n",
    "        "
   ]
  },
  {
   "cell_type": "code",
   "execution_count": 13,
   "metadata": {},
   "outputs": [
    {
     "name": "stdout",
     "output_type": "stream",
     "text": [
      "150.0\n"
     ]
    }
   ],
   "source": [
    "class SI:\n",
    "    def __init__(self,P,R,T):\n",
    "        self.P=P\n",
    "        self.R=R\n",
    "        self.T=T\n",
    "    def calc(self):\n",
    "        print(self.P*self.R*self.T/100)\n",
    "        \n",
    "simInt = SI(1500,5,2)\n",
    "\n",
    "simInt.calc()\n",
    "        "
   ]
  },
  {
   "cell_type": "code",
   "execution_count": 34,
   "metadata": {},
   "outputs": [
    {
     "name": "stdout",
     "output_type": "stream",
     "text": [
      "P:15000\n",
      "R:10\n",
      "T:1\n",
      "1500.0\n"
     ]
    }
   ],
   "source": [
    "class SI:\n",
    "    def __init__(self,P,R,T):\n",
    "        self.P=int(input(\"P:\"))\n",
    "        self.R=int(input(\"R:\"))\n",
    "        self.T=int(input(\"T:\"))\n",
    "    def calc(self):\n",
    "        print(self.P*self.R*self.T/100)\n",
    "simInt = SI(1,1,1) #ma'am please explain this\n",
    "simInt.calc()\n",
    "        "
   ]
  },
  {
   "cell_type": "code",
   "execution_count": null,
   "metadata": {},
   "outputs": [],
   "source": []
  }
 ],
 "metadata": {
  "kernelspec": {
   "display_name": "Python 3",
   "language": "python",
   "name": "python3"
  },
  "language_info": {
   "codemirror_mode": {
    "name": "ipython",
    "version": 3
   },
   "file_extension": ".py",
   "mimetype": "text/x-python",
   "name": "python",
   "nbconvert_exporter": "python",
   "pygments_lexer": "ipython3",
   "version": "3.8.5"
  }
 },
 "nbformat": 4,
 "nbformat_minor": 4
}
