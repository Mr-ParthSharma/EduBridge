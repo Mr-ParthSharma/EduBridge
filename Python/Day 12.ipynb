{
 "cells": [
  {
   "cell_type": "markdown",
   "metadata": {},
   "source": [
    "# inheritance"
   ]
  },
  {
   "cell_type": "code",
   "execution_count": 1,
   "metadata": {},
   "outputs": [
    {
     "name": "stdout",
     "output_type": "stream",
     "text": [
      "Student Details\n",
      "name: hari age: 23\n",
      "id: 101 fees: 6700\n"
     ]
    }
   ],
   "source": [
    "class person:\n",
    "    def __init__(self,name,age):\n",
    "        self.name=name\n",
    "        self.age=age\n",
    "    def personinfo(self):\n",
    "        print('name:',self.name,'age:',self.age)\n",
    "        \n",
    "class student(person):\n",
    "    def __init__(self,name,age,stid,fees):\n",
    "        person.__init__(self,name,age)\n",
    "        self.stid=stid\n",
    "        self.fees=fees\n",
    "        \n",
    "    def studentinfo(self):\n",
    "        print('id:',self.stid,'fees:',self.fees)\n",
    "        \n",
    "s1=student('hari',23,101,6700)\n",
    "print(\"Student Details\")\n",
    "s1.personinfo()\n",
    "s1.studentinfo()"
   ]
  },
  {
   "cell_type": "code",
   "execution_count": 5,
   "metadata": {},
   "outputs": [
    {
     "name": "stdout",
     "output_type": "stream",
     "text": [
      "Student Details\n",
      "name: Edubridge\n",
      "id: 19 Department: BTech Semester: 4\n"
     ]
    }
   ],
   "source": [
    "class col:\n",
    "    def __init__(self,name):\n",
    "        self.name=name\n",
    "    def colinfo(self):\n",
    "        print('name:',self.name)\n",
    "        \n",
    "class dept(col):\n",
    "    def __init__(self,name,stid,dept,sem):\n",
    "        col.__init__(self,name)\n",
    "        self.stid=stid\n",
    "        self.dept=dept\n",
    "        self.sem=sem\n",
    "        \n",
    "        \n",
    "    def deptinfo(self):\n",
    "        print('id:',self.stid,'Department:',self.dept,'Semester:',self.sem)\n",
    "        \n",
    "s1=dept('Edubridge',19,'BTech',4)\n",
    "print(\"Student Details\")\n",
    "s1.colinfo()\n",
    "s1.deptinfo()"
   ]
  },
  {
   "cell_type": "code",
   "execution_count": 18,
   "metadata": {},
   "outputs": [
    {
     "name": "stdout",
     "output_type": "stream",
     "text": [
      "Student Details\n"
     ]
    },
    {
     "ename": "AttributeError",
     "evalue": "'fina' object has no attribute 'name'",
     "output_type": "error",
     "traceback": [
      "\u001b[1;31m---------------------------------------------------------------------------\u001b[0m",
      "\u001b[1;31mAttributeError\u001b[0m                            Traceback (most recent call last)",
      "\u001b[1;32m<ipython-input-18-7bc7a39c7241>\u001b[0m in \u001b[0;36m<module>\u001b[1;34m\u001b[0m\n\u001b[0;32m     27\u001b[0m \u001b[0mprint\u001b[0m\u001b[1;33m(\u001b[0m\u001b[1;34m\"Student Details\"\u001b[0m\u001b[1;33m)\u001b[0m\u001b[1;33m\u001b[0m\u001b[1;33m\u001b[0m\u001b[0m\n\u001b[0;32m     28\u001b[0m \u001b[1;33m\u001b[0m\u001b[0m\n\u001b[1;32m---> 29\u001b[1;33m \u001b[0ms1\u001b[0m\u001b[1;33m.\u001b[0m\u001b[0mdeptinfo\u001b[0m\u001b[1;33m(\u001b[0m\u001b[1;33m)\u001b[0m\u001b[1;33m\u001b[0m\u001b[1;33m\u001b[0m\u001b[0m\n\u001b[0m\u001b[0;32m     30\u001b[0m \u001b[0ms1\u001b[0m\u001b[1;33m.\u001b[0m\u001b[0mfeesinfo\u001b[0m\u001b[1;33m(\u001b[0m\u001b[1;33m)\u001b[0m\u001b[1;33m\u001b[0m\u001b[1;33m\u001b[0m\u001b[0m\n",
      "\u001b[1;32m<ipython-input-18-7bc7a39c7241>\u001b[0m in \u001b[0;36mdeptinfo\u001b[1;34m(self)\u001b[0m\n\u001b[0;32m     13\u001b[0m \u001b[1;33m\u001b[0m\u001b[0m\n\u001b[0;32m     14\u001b[0m     \u001b[1;32mdef\u001b[0m \u001b[0mdeptinfo\u001b[0m\u001b[1;33m(\u001b[0m\u001b[0mself\u001b[0m\u001b[1;33m)\u001b[0m\u001b[1;33m:\u001b[0m\u001b[1;33m\u001b[0m\u001b[1;33m\u001b[0m\u001b[0m\n\u001b[1;32m---> 15\u001b[1;33m         \u001b[0ms1\u001b[0m\u001b[1;33m.\u001b[0m\u001b[0mcolinfo\u001b[0m\u001b[1;33m(\u001b[0m\u001b[1;33m)\u001b[0m\u001b[1;33m\u001b[0m\u001b[1;33m\u001b[0m\u001b[0m\n\u001b[0m\u001b[0;32m     16\u001b[0m         \u001b[0mprint\u001b[0m\u001b[1;33m(\u001b[0m\u001b[1;34m'id:'\u001b[0m\u001b[1;33m,\u001b[0m\u001b[0mself\u001b[0m\u001b[1;33m.\u001b[0m\u001b[0mstid\u001b[0m\u001b[1;33m,\u001b[0m\u001b[1;34m'Department:'\u001b[0m\u001b[1;33m,\u001b[0m\u001b[0mself\u001b[0m\u001b[1;33m.\u001b[0m\u001b[0mdept\u001b[0m\u001b[1;33m,\u001b[0m\u001b[1;34m'Semester:'\u001b[0m\u001b[1;33m,\u001b[0m\u001b[0mself\u001b[0m\u001b[1;33m.\u001b[0m\u001b[0msem\u001b[0m\u001b[1;33m)\u001b[0m\u001b[1;33m\u001b[0m\u001b[1;33m\u001b[0m\u001b[0m\n\u001b[0;32m     17\u001b[0m \u001b[1;33m\u001b[0m\u001b[0m\n",
      "\u001b[1;32m<ipython-input-18-7bc7a39c7241>\u001b[0m in \u001b[0;36mcolinfo\u001b[1;34m(self)\u001b[0m\n\u001b[0;32m      3\u001b[0m         \u001b[0mself\u001b[0m\u001b[1;33m.\u001b[0m\u001b[0mname\u001b[0m\u001b[1;33m=\u001b[0m\u001b[0mname\u001b[0m\u001b[1;33m\u001b[0m\u001b[1;33m\u001b[0m\u001b[0m\n\u001b[0;32m      4\u001b[0m     \u001b[1;32mdef\u001b[0m \u001b[0mcolinfo\u001b[0m\u001b[1;33m(\u001b[0m\u001b[0mself\u001b[0m\u001b[1;33m)\u001b[0m\u001b[1;33m:\u001b[0m\u001b[1;33m\u001b[0m\u001b[1;33m\u001b[0m\u001b[0m\n\u001b[1;32m----> 5\u001b[1;33m         \u001b[0mprint\u001b[0m\u001b[1;33m(\u001b[0m\u001b[1;34m'name:'\u001b[0m\u001b[1;33m,\u001b[0m\u001b[0mself\u001b[0m\u001b[1;33m.\u001b[0m\u001b[0mname\u001b[0m\u001b[1;33m)\u001b[0m\u001b[1;33m\u001b[0m\u001b[1;33m\u001b[0m\u001b[0m\n\u001b[0m\u001b[0;32m      6\u001b[0m \u001b[1;33m\u001b[0m\u001b[0m\n\u001b[0;32m      7\u001b[0m \u001b[1;32mclass\u001b[0m \u001b[0mdept\u001b[0m\u001b[1;33m(\u001b[0m\u001b[0mcol\u001b[0m\u001b[1;33m)\u001b[0m\u001b[1;33m:\u001b[0m\u001b[1;33m\u001b[0m\u001b[1;33m\u001b[0m\u001b[0m\n",
      "\u001b[1;31mAttributeError\u001b[0m: 'fina' object has no attribute 'name'"
     ]
    }
   ],
   "source": [
    "class col:\n",
    "    def __init__(self,name):\n",
    "        self.name=name\n",
    "    def colinfo(self):\n",
    "        print('name:',self.name)\n",
    "        \n",
    "class dept(col):\n",
    "    def __init__(self,name,stid,dept,sem):\n",
    "        col.__init__(self,name)\n",
    "        self.stid=stid\n",
    "        self.dept=dept\n",
    "        self.sem=sem\n",
    "            \n",
    "    def deptinfo(self):\n",
    "        s1.colinfo()\n",
    "        print('id:',self.stid,'Department:',self.dept,'Semester:',self.sem)\n",
    "        \n",
    "class fina(dept):\n",
    "    def __init__(self,name,stid,dept,sem,fees):\n",
    "        dept.__init__(self,stid,dept,sem)\n",
    "        self.fees=fees\n",
    "        \n",
    "    def feesinfo(self):\n",
    "        print('College Fees:',self.fees)\n",
    "        \n",
    "s1=fina('Edubridge',19,'BTech',4,15000)\n",
    "print(\"Student Details\")\n",
    "\n",
    "s1.deptinfo()\n",
    "s1.feesinfo()"
   ]
  },
  {
   "cell_type": "code",
   "execution_count": 3,
   "metadata": {},
   "outputs": [
    {
     "name": "stdout",
     "output_type": "stream",
     "text": [
      "Enter Your Name: hdghbf\n",
      "Enter Your Department: dif\n",
      "Your Fees: uihfui\n",
      "Name : hdghbf\n",
      "Fees:  uihfui\n"
     ]
    }
   ],
   "source": [
    "class college:\n",
    "    def __init__(self):\n",
    "        self.Name=input(\"Enter Your Name: \")\n",
    "    def show(self):\n",
    "        print(\"Name :\",self.Name)\n",
    "        \n",
    "class Depart(college):\n",
    "    def __init__(self):\n",
    "        college.__init__(self)\n",
    "        self.dept=input(\"Enter Your Department: \")\n",
    "class Finance(Depart):\n",
    "    def __init__(self):\n",
    "        Depart.__init__(self)\n",
    "        self.fees=input(\"Your Fees: \")\n",
    "    def fees1(self):\n",
    "        print(\"Fees: \",self.fees)\n",
    "        \n",
    "obj = Finance()\n",
    "obj.show()\n",
    "obj.fees1()"
   ]
  },
  {
   "cell_type": "code",
   "execution_count": 2,
   "metadata": {},
   "outputs": [
    {
     "name": "stdout",
     "output_type": "stream",
     "text": [
      "Enter name:uigui\n",
      "Enter age:25\n",
      "Enter SN:78526\n",
      "Enter score:415\n",
      "Enter Coach:gh\n",
      "Player Details:\n",
      "Name: uigui \n",
      "Age: 25 \n",
      "SN: 78526\n",
      "Score: 415\n",
      "Coach: gh\n"
     ]
    }
   ],
   "source": [
    "class Players:                              #parent class(Players)\n",
    "    def __init__(self):\n",
    "        self.name = input(\"Enter name:\")\n",
    "        self.age = int(input(\"Enter age:\"))\n",
    "        self.SN = int(input(\"Enter SN:\"))\n",
    "        \n",
    "    def playersinfo(self):\n",
    "        print(\"Name:\",self.name,\"\\nAge:\",self.age,\"\\nSN:\",self.SN)\n",
    "        \n",
    "\n",
    "class Scores(Players):                     #another parent class(Scores) calling Players class\n",
    "    def __init__(self):\n",
    "        Players.__init__(self)\n",
    "        self.score = input(\"Enter score:\")\n",
    "        \n",
    "    def scores(self):\n",
    "        print(\"Score:\",self.score)\n",
    "        \n",
    "        \n",
    "class Team(Scores):                       #child class(Team) calling Scores\n",
    "    def __init__(self): \n",
    "        Scores.__init__(self)\n",
    "        self.coach = input(\"Enter Coach:\")\n",
    "    def teaminfo(self):\n",
    "        print(\"Coach:\",self.coach)\n",
    "        \n",
    "t=Team()\n",
    "print(\"Player Details:\")\n",
    "t.playersinfo()\n",
    "t.scores()\n",
    "t.teaminfo()\n"
   ]
  },
  {
   "cell_type": "code",
   "execution_count": null,
   "metadata": {},
   "outputs": [],
   "source": [
    "class mall:\n",
    "    def __init__(self):\n",
    "        self.name=input(\"Enter Your Name: \")\n",
    "    def show(self):\n",
    "        print(\"Name :\",self.name)\n",
    "        \n",
    "class location(mall):\n",
    "    def __init__(self):\n",
    "        mall.__init__(self)\n",
    "        self.city=input(\"Enter Your city: \")\n",
    "    def area(self):\n",
    "        print(\"city:\",self.city)\n",
    "        \n",
    "        \n",
    "\n",
    "class brands(location):\n",
    "    def __init__(self):\n",
    "        location.__init__(self)\n",
    "        self.brandsname=input(\"brandsname: \")\n",
    "    def shops(self):\n",
    "        print(\"brandsname: \",self.brandsname)\n",
    "        \n",
    "obj = brands()\n",
    "print(\"shopping details\")\n",
    "obj.show()\n",
    "obj.area()\n",
    "obj.shops()\n"
   ]
  }
 ],
 "metadata": {
  "kernelspec": {
   "display_name": "Python 3",
   "language": "python",
   "name": "python3"
  },
  "language_info": {
   "codemirror_mode": {
    "name": "ipython",
    "version": 3
   },
   "file_extension": ".py",
   "mimetype": "text/x-python",
   "name": "python",
   "nbconvert_exporter": "python",
   "pygments_lexer": "ipython3",
   "version": "3.8.5"
  }
 },
 "nbformat": 4,
 "nbformat_minor": 4
}
