{
 "cells": [
  {
   "cell_type": "markdown",
   "metadata": {},
   "source": [
    "# Difference "
   ]
  },
  {
   "cell_type": "code",
   "execution_count": 1,
   "metadata": {},
   "outputs": [
    {
     "data": {
      "text/plain": [
       "{1, 2}"
      ]
     },
     "execution_count": 1,
     "metadata": {},
     "output_type": "execute_result"
    }
   ],
   "source": [
    "x={1,2,3,4,5}\n",
    "y={3,4,5,6,7}\n",
    "x-y"
   ]
  },
  {
   "cell_type": "code",
   "execution_count": 2,
   "metadata": {},
   "outputs": [
    {
     "data": {
      "text/plain": [
       "{6, 7}"
      ]
     },
     "execution_count": 2,
     "metadata": {},
     "output_type": "execute_result"
    }
   ],
   "source": [
    "y-x"
   ]
  },
  {
   "cell_type": "code",
   "execution_count": 3,
   "metadata": {},
   "outputs": [
    {
     "data": {
      "text/plain": [
       "{1, 2}"
      ]
     },
     "execution_count": 3,
     "metadata": {},
     "output_type": "execute_result"
    }
   ],
   "source": [
    "x.difference(y)"
   ]
  },
  {
   "cell_type": "markdown",
   "metadata": {},
   "source": [
    "# Symmetric Difference\n",
    "The symmertic difference() method will return a new set, that contain only the elements that are NOt present in both sets\n",
    "The symmetric_difference_update() method will keep only the elements that are not present in both datasets"
   ]
  },
  {
   "cell_type": "code",
   "execution_count": 5,
   "metadata": {},
   "outputs": [
    {
     "data": {
      "text/plain": [
       "{1, 2, 6, 7}"
      ]
     },
     "execution_count": 5,
     "metadata": {},
     "output_type": "execute_result"
    }
   ],
   "source": [
    "x^y"
   ]
  },
  {
   "cell_type": "code",
   "execution_count": 7,
   "metadata": {},
   "outputs": [
    {
     "data": {
      "text/plain": [
       "{1, 2, 6, 7}"
      ]
     },
     "execution_count": 7,
     "metadata": {},
     "output_type": "execute_result"
    }
   ],
   "source": [
    "x.symmetric_difference(y)"
   ]
  },
  {
   "cell_type": "markdown",
   "metadata": {},
   "source": [
    "# Functions"
   ]
  },
  {
   "cell_type": "code",
   "execution_count": 9,
   "metadata": {},
   "outputs": [
    {
     "name": "stdout",
     "output_type": "stream",
     "text": [
      "5\n",
      "5\n",
      "10\n",
      "15\n",
      "20\n",
      "25\n",
      "30\n",
      "35\n",
      "40\n",
      "45\n"
     ]
    }
   ],
   "source": [
    "def table():\n",
    "    num = int(input())\n",
    "    for i in range(1,10):\n",
    "        print(i*num)\n",
    "table()"
   ]
  },
  {
   "cell_type": "code",
   "execution_count": 24,
   "metadata": {},
   "outputs": [
    {
     "name": "stdout",
     "output_type": "stream",
     "text": [
      "0\n",
      "1\n",
      "2\n",
      "3\n",
      "5\n",
      "8\n"
     ]
    }
   ],
   "source": [
    "#Fibonicci Series\n",
    "def febo():\n",
    "    print(0)\n",
    "    print(1)\n",
    "    print(2)\n",
    "    print(2+1)\n",
    "    print(3+2)\n",
    "    print(5+3)\n",
    "    \n",
    "    \n",
    "        \n",
    "febo()"
   ]
  },
  {
   "cell_type": "code",
   "execution_count": 38,
   "metadata": {},
   "outputs": [
    {
     "name": "stdout",
     "output_type": "stream",
     "text": [
      "85\n",
      "95\n",
      "What type of operation You want to perform\n",
      "Select from the given option\n",
      "Press 1 for addition\n",
      "Press 2 for Substraction\n",
      "Press 3 for multiplication\n",
      "Press 4 for Division\n",
      "Select your Operation:3\n",
      "8075\n"
     ]
    }
   ],
   "source": [
    "def Calculator(x,y):\n",
    "    print(\"What type of operation You want to perform\")\n",
    "    print(\"\"\"Select from the given option\n",
    "Press 1 for addition\n",
    "Press 2 for Substraction\n",
    "Press 3 for multiplication\n",
    "Press 4 for Division\"\"\")\n",
    "    num = int(input(\"Select your Operation:\"))\n",
    "    if num ==1:\n",
    "        print(x+y)\n",
    "    elif num ==2:\n",
    "        print(x-y)\n",
    "    elif num ==3:\n",
    "        print(x*y)\n",
    "    elif num==4:\n",
    "        print(x/y)\n",
    "    else:\n",
    "        print(\"Select an appropriate option\")\n",
    "a = int(input())\n",
    "b = int(input())\n",
    "Calculator(a,b)\n",
    "   \n"
   ]
  },
  {
   "cell_type": "code",
   "execution_count": null,
   "metadata": {},
   "outputs": [],
   "source": []
  }
 ],
 "metadata": {
  "kernelspec": {
   "display_name": "Python 3",
   "language": "python",
   "name": "python3"
  },
  "language_info": {
   "codemirror_mode": {
    "name": "ipython",
    "version": 3
   },
   "file_extension": ".py",
   "mimetype": "text/x-python",
   "name": "python",
   "nbconvert_exporter": "python",
   "pygments_lexer": "ipython3",
   "version": "3.8.5"
  }
 },
 "nbformat": 4,
 "nbformat_minor": 4
}
